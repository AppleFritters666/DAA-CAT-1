{
 "cells": [
  {
   "cell_type": "markdown",
   "id": "76dd144a",
   "metadata": {},
   "source": [
    "# CAT-1"
   ]
  },
  {
   "cell_type": "markdown",
   "id": "7a802f95",
   "metadata": {},
   "source": [
    "### Creating Matrix"
   ]
  },
  {
   "cell_type": "code",
   "execution_count": 48,
   "id": "1f864f81",
   "metadata": {},
   "outputs": [
    {
     "name": "stdout",
     "output_type": "stream",
     "text": [
      "Enter no of characters:8\n"
     ]
    }
   ],
   "source": [
    "n = int(input('Enter no of characters:'))\n",
    "matrix = [[0 for i in range(n+1)] for j in range(n+1)]"
   ]
  },
  {
   "cell_type": "markdown",
   "id": "cf8a61c2",
   "metadata": {},
   "source": [
    "### Inputting Sequences"
   ]
  },
  {
   "cell_type": "code",
   "execution_count": 49,
   "id": "3a109a53",
   "metadata": {},
   "outputs": [],
   "source": [
    "str1=\"ACACACTA\"\n",
    "str2=\"AGCACACA\""
   ]
  },
  {
   "cell_type": "code",
   "execution_count": 50,
   "id": "24c1cf50",
   "metadata": {},
   "outputs": [],
   "source": [
    "str1 = '-' + str1\n",
    "str2 = '-' + str2"
   ]
  },
  {
   "cell_type": "markdown",
   "id": "529276f1",
   "metadata": {},
   "source": [
    "### Populating Matrix"
   ]
  },
  {
   "cell_type": "code",
   "execution_count": 51,
   "id": "ac41a46d",
   "metadata": {},
   "outputs": [],
   "source": [
    "for i in range(1,n+1):\n",
    "    for j in range(1,n+1):\n",
    "        if str1[j] == str2[i]:\n",
    "                matrix[i][j] = matrix[i-1][j-1] + 2\n",
    "        else:\n",
    "                x = max(matrix[i-1][j],matrix[i][j-1],matrix[i-1][j-1])\n",
    "                if(x == 0):\n",
    "                    matrix[i][j] = x \n",
    "                else:\n",
    "                    matrix[i][j] = x-1\n",
    "        "
   ]
  },
  {
   "cell_type": "code",
   "execution_count": 52,
   "id": "937250f8",
   "metadata": {
    "scrolled": true
   },
   "outputs": [
    {
     "data": {
      "text/plain": [
       "[[0, 0, 0, 0, 0, 0, 0, 0, 0],\n",
       " [0, 2, 1, 2, 1, 2, 1, 0, 2],\n",
       " [0, 1, 1, 1, 1, 1, 1, 0, 1],\n",
       " [0, 0, 3, 2, 3, 2, 3, 2, 1],\n",
       " [0, 2, 2, 5, 4, 5, 4, 3, 4],\n",
       " [0, 1, 4, 4, 7, 6, 7, 6, 5],\n",
       " [0, 2, 3, 6, 6, 9, 8, 7, 8],\n",
       " [0, 1, 4, 5, 8, 8, 11, 10, 9],\n",
       " [0, 2, 3, 6, 7, 10, 10, 10, 12]]"
      ]
     },
     "execution_count": 52,
     "metadata": {},
     "output_type": "execute_result"
    }
   ],
   "source": [
    "matrix "
   ]
  },
  {
   "cell_type": "markdown",
   "id": "27a8a335",
   "metadata": {},
   "source": [
    "### Trace Back with Kruskal's Algorithm"
   ]
  },
  {
   "cell_type": "markdown",
   "id": "56c14c25",
   "metadata": {},
   "source": [
    "Finding max element in matrix"
   ]
  },
  {
   "cell_type": "code",
   "execution_count": 53,
   "id": "b6c397e5",
   "metadata": {},
   "outputs": [],
   "source": [
    "def MatrixMax(matrix,n):\n",
    "    x = 0\n",
    "    for i in range(n+1):\n",
    "        for j in range(n+1):\n",
    "            if (matrix[i][j] > x):\n",
    "                x = matrix[i][j]\n",
    "                a = i\n",
    "                b = j\n",
    "         \n",
    "    return x,i,j"
   ]
  },
  {
   "cell_type": "code",
   "execution_count": 54,
   "id": "7c76f56a",
   "metadata": {},
   "outputs": [],
   "source": [
    "x,i,j = MatrixMax(matrix,n)"
   ]
  },
  {
   "cell_type": "code",
   "execution_count": 55,
   "id": "1445cd90",
   "metadata": {},
   "outputs": [
    {
     "name": "stdout",
     "output_type": "stream",
     "text": [
      "12->10->11->9->7->5->3->1->2->0->"
     ]
    }
   ],
   "source": [
    "indexes=[]\n",
    "print(str(matrix[i][j]) + '->',end='')\n",
    "indexes.append([i,j,0])\n",
    "while(i != 0 and j != 0):\n",
    "    diagonal = matrix[i-1][j-1]\n",
    "    top = matrix[i-1][j]\n",
    "    left = matrix[i][j-1]\n",
    "    if diagonal == max(diagonal,top,left):\n",
    "        print(str(diagonal)+'->',end='')\n",
    "        i -=1\n",
    "        j -=1 \n",
    "        indexes.append([i,j,1])\n",
    "    elif left > top:\n",
    "        print(str(left)+'->',end='')\n",
    "        j -=1\n",
    "        indexes.append([i,j,2])\n",
    "    else:\n",
    "        print(str(top)+'->',end='')\n",
    "        i -= 1\n",
    "        indexes.append([i,j,3])\n",
    "\n",
    "            \n",
    "        "
   ]
  },
  {
   "cell_type": "markdown",
   "id": "3085c9b4",
   "metadata": {},
   "source": [
    "### Printing the sequences"
   ]
  },
  {
   "cell_type": "code",
   "execution_count": 75,
   "id": "96ea10a8",
   "metadata": {},
   "outputs": [
    {
     "data": {
      "text/plain": [
       "[[8, 8, 0],\n",
       " [7, 7, 1],\n",
       " [7, 6, 2],\n",
       " [6, 5, 1],\n",
       " [5, 4, 1],\n",
       " [4, 3, 1],\n",
       " [3, 2, 1],\n",
       " [2, 1, 1]]"
      ]
     },
     "execution_count": 75,
     "metadata": {},
     "output_type": "execute_result"
    }
   ],
   "source": [
    "indexes = indexes[:-1]\n",
    "indexes"
   ]
  },
  {
   "cell_type": "code",
   "execution_count": 71,
   "id": "0ff2d7af",
   "metadata": {},
   "outputs": [],
   "source": [
    "str3= str1[indexes[0][0]]\n",
    "str4=str2[indexes[0][0]]"
   ]
  },
  {
   "cell_type": "code",
   "execution_count": 72,
   "id": "a0dec6c9",
   "metadata": {},
   "outputs": [],
   "source": [
    "for i in indexes:\n",
    "    if i[2] == 0:\n",
    "        continue\n",
    "    elif i[2] == 1:\n",
    "        str3+= str1[i[0]]\n",
    "        str4+= str2[i[1]]\n",
    "    elif i[2] == 2:\n",
    "        str3+=str1[i[0]]\n",
    "        str4+='_'\n",
    "    elif i[2] == 3:\n",
    "        str3+='_'\n",
    "        str4+=str2[i[1]]"
   ]
  },
  {
   "cell_type": "code",
   "execution_count": 73,
   "id": "3125de16",
   "metadata": {},
   "outputs": [
    {
     "name": "stdout",
     "output_type": "stream",
     "text": [
      "_CACACTTA\n",
      "AAGCAC_CA\n"
     ]
    }
   ],
   "source": [
    "print(str3[::-1],str4[::-1],sep='\\n')"
   ]
  },
  {
   "cell_type": "code",
   "execution_count": null,
   "id": "3b4ac682",
   "metadata": {},
   "outputs": [],
   "source": []
  }
 ],
 "metadata": {
  "kernelspec": {
   "display_name": "Python 3 (ipykernel)",
   "language": "python",
   "name": "python3"
  },
  "language_info": {
   "codemirror_mode": {
    "name": "ipython",
    "version": 3
   },
   "file_extension": ".py",
   "mimetype": "text/x-python",
   "name": "python",
   "nbconvert_exporter": "python",
   "pygments_lexer": "ipython3",
   "version": "3.9.7"
  }
 },
 "nbformat": 4,
 "nbformat_minor": 5
}
